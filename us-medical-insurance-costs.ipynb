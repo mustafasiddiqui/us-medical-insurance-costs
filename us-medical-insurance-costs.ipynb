{
 "cells": [
  {
   "cell_type": "markdown",
   "metadata": {},
   "source": [
    "# U.S. Medical Insurance Costs"
   ]
  },
  {
   "cell_type": "markdown",
   "metadata": {},
   "source": [
    "Goals:\n",
    "* [X] Average age of patients\n",
    "* [X] Average BMI and smokers per region\n",
    "* [X] Average cost by region\n",
    "* [X] Average number of children by region\n",
    "* [X] Look at costs by age group"
   ]
  },
  {
   "cell_type": "code",
   "execution_count": 1,
   "metadata": {},
   "outputs": [],
   "source": [
    "import csv"
   ]
  },
  {
   "cell_type": "code",
   "execution_count": 2,
   "metadata": {},
   "outputs": [],
   "source": [
    "insurance_dict = {}\n",
    "with open('insurance.csv') as insurance_file:\n",
    "    reader = csv.DictReader(insurance_file)\n",
    "    i = 0\n",
    "    for row in reader:\n",
    "        newEntry = {}\n",
    "        newEntry = {\n",
    "            'age': int(row['age']),\n",
    "            'sex': row['sex'],\n",
    "            'bmi': float(row['bmi']),\n",
    "            'children': int(row['children']),\n",
    "            'smoker': row['smoker'],\n",
    "            'region': row['region'],\n",
    "            'charges': float(row['charges'])\n",
    "        }\n",
    "        insurance_dict[i] = newEntry\n",
    "        i += 1"
   ]
  },
  {
   "cell_type": "markdown",
   "metadata": {},
   "source": [
    "Items in dictionary look like `{'age': 19, 'sex': 'female', 'bmi': 27.9, 'children': 0, 'smoker': 'yes', 'region': 'southwest', 'charges': 16884.924}`"
   ]
  },
  {
   "cell_type": "markdown",
   "metadata": {},
   "source": [
    "### Average age of patients"
   ]
  },
  {
   "cell_type": "code",
   "execution_count": 3,
   "metadata": {},
   "outputs": [
    {
     "name": "stdout",
     "output_type": "stream",
     "text": [
      "The average age of patients is 39.20702541106129.\n"
     ]
    }
   ],
   "source": [
    "def findAverageAge(insurance_dict):\n",
    "    totalAge = 0\n",
    "    for record in insurance_dict.values():\n",
    "        totalAge += record['age']\n",
    "    return totalAge / len(insurance_dict)\n",
    "\n",
    "print('The average age of patients is {}.'.format(findAverageAge(insurance_dict)))\n"
   ]
  },
  {
   "cell_type": "markdown",
   "metadata": {},
   "source": [
    "### Statistics by region"
   ]
  },
  {
   "cell_type": "code",
   "execution_count": 4,
   "metadata": {},
   "outputs": [
    {
     "name": "stdout",
     "output_type": "stream",
     "text": [
      "The average cost for the southwest region is $12346.93737729231, with average BMI of 30.59661538461538 and 17.846153846153847% being smokers, averaging 1.1415384615384616 children.\n",
      "The average cost for the southeast region is $14735.411437609895, with average BMI of 33.35598901098903 and 25.0% being smokers, averaging 1.0494505494505495 children.\n",
      "The average cost for the northwest region is $12417.575373969228, with average BMI of 29.199784615384626 and 17.846153846153847% being smokers, averaging 1.1476923076923078 children.\n",
      "The average cost for the northeast region is $13406.3845163858, with average BMI of 29.17350308641976 and 20.679012345679013% being smokers, averaging 1.0462962962962963 children.\n"
     ]
    }
   ],
   "source": [
    "def findAverageBmiPerRegion(insurance_dict):\n",
    "    counts = {}\n",
    "    for record in insurance_dict.values():\n",
    "        region = record['region']\n",
    "        bmi = record['bmi']\n",
    "        smoker = record['smoker']\n",
    "        cost = record['charges']\n",
    "        children = record['children']\n",
    "        entryForRegion = counts.get(region, {'bmiTotal':0, 'count':0, 'smokers':0, 'costTotal':0, 'childrenTotal':0})\n",
    "        entryForRegion['count'] += 1\n",
    "        entryForRegion['bmiTotal'] += bmi\n",
    "        entryForRegion['costTotal'] += cost\n",
    "        entryForRegion['childrenTotal'] += children\n",
    "        if (smoker == 'yes'):\n",
    "            entryForRegion['smokers'] += 1\n",
    "        counts[region] = entryForRegion\n",
    "    for region, stats in counts.items():\n",
    "        count = stats['count']\n",
    "        print('The average cost for the {} region is ${}, with average BMI of {} and {}% being smokers, averaging {} children.'\n",
    "              .format(region, stats['costTotal']/count, stats['bmiTotal'] / count, stats['smokers']/count*100, stats['childrenTotal']/count))\n",
    "\n",
    "        \n",
    "findAverageBmiPerRegion(insurance_dict)"
   ]
  },
  {
   "cell_type": "code",
   "execution_count": 5,
   "metadata": {},
   "outputs": [
    {
     "name": "stdout",
     "output_type": "stream",
     "text": [
      "The average for ages 18-26 is 8839.442950775452\n",
      "The average for ages 27-35 is 11003.985783041662\n",
      "The average for ages 45-53 is 15539.915056872578\n",
      "The average for ages 36-44 is 13328.52897582979\n",
      "The average for ages 54-62 is 17937.935578666657\n",
      "The average for ages 63-71 is 21542.59206711111\n"
     ]
    }
   ],
   "source": [
    "def costByAgeGroup(insurance_dict):\n",
    "    ageGroups = {1: '0-17', 2: '18-26', 3: '27-35', 4: '36-44', 5: '45-53', 6: '54-62', 7: '63-71', 8: '72-80', 9: '81+'}\n",
    "    ageCost = {}\n",
    "    for record in insurance_dict.values():\n",
    "        key = 0\n",
    "        age = record['age']\n",
    "        if (age < 18):\n",
    "            key = 1\n",
    "        elif (age < 27):\n",
    "            key = 2\n",
    "        elif (age < 36):\n",
    "            key = 3\n",
    "        elif (age < 45):\n",
    "            key = 4\n",
    "        elif age < 54:\n",
    "            key = 5\n",
    "        elif age < 63:\n",
    "            key = 6\n",
    "        elif age < 72:\n",
    "            key = 7\n",
    "        elif age < 81:\n",
    "            key = 8\n",
    "        else:\n",
    "            key = 9\n",
    "        \n",
    "        cost = record['charges']\n",
    "        oldVal = ageCost.get(key, {'count': 0, 'total': 0})\n",
    "        newVal = {'count': oldVal['count'] + 1, 'total': oldVal['total']+cost}\n",
    "        ageCost[key] = newVal\n",
    "    for (key, values) in ageCost.items():\n",
    "        print('The average for ages {} is {}'.format(ageGroups.get(key), values['total']/values['count']))\n",
    "    \n",
    "        \n",
    "costByAgeGroup(insurance_dict)"
   ]
  }
 ],
 "metadata": {
  "kernelspec": {
   "display_name": "Python 3 (ipykernel)",
   "language": "python",
   "name": "python3"
  },
  "language_info": {
   "codemirror_mode": {
    "name": "ipython",
    "version": 3
   },
   "file_extension": ".py",
   "mimetype": "text/x-python",
   "name": "python",
   "nbconvert_exporter": "python",
   "pygments_lexer": "ipython3",
   "version": "3.9.13"
  }
 },
 "nbformat": 4,
 "nbformat_minor": 4
}
